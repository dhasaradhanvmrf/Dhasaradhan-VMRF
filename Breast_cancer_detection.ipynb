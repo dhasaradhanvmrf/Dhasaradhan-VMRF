{
  "nbformat": 4,
  "nbformat_minor": 0,
  "metadata": {
    "colab": {
      "name": "Breast cancer detection",
      "provenance": [],
      "collapsed_sections": [],
      "authorship_tag": "ABX9TyO2QolDFgKzCmQouQgsiFA4",
      "include_colab_link": true
    },
    "kernelspec": {
      "name": "python3",
      "display_name": "Python 3"
    },
    "language_info": {
      "name": "python"
    }
  },
  "cells": [
    {
      "cell_type": "markdown",
      "metadata": {
        "id": "view-in-github",
        "colab_type": "text"
      },
      "source": [
        "<a href=\"https://colab.research.google.com/github/dhasaradhanvmrf/Dhasaradhan-VMRF/blob/master/Breast_cancer_detection.ipynb\" target=\"_parent\"><img src=\"https://colab.research.google.com/assets/colab-badge.svg\" alt=\"Open In Colab\"/></a>"
      ]
    },
    {
      "cell_type": "code",
      "metadata": {
        "id": "pGkrQCu5CTd9"
      },
      "source": [
        "import sys\n",
        "import numpy as np\n",
        "import matplotlib\n",
        "import matplotlib.pyplot as plt\n",
        "import pandas as pd\n",
        "import sklearn\n",
        "\n",
        "from sklearn import preprocessing\n",
        "from sklearn.model_selection import train_test_split, KFold, cross_val_score\n",
        "from sklearn.neighbors import KNeighborsClassifier\n",
        "from sklearn.svm import SVC\n",
        "from sklearn.metrics import classification_report, accuracy_score\n",
        "from pandas.plotting import scatter_matrix\n"
      ],
      "execution_count": 1,
      "outputs": []
    },
    {
      "cell_type": "markdown",
      "metadata": {
        "id": "uTGxGa0ZCx_U"
      },
      "source": [
        "Version Checking"
      ]
    },
    {
      "cell_type": "code",
      "metadata": {
        "colab": {
          "base_uri": "https://localhost:8080/"
        },
        "id": "FQMcdvyECsZ3",
        "outputId": "1ee877d8-ec5e-463b-8413-f06af84ac87b"
      },
      "source": [
        "print('Python: {}'.format(sys.version))\n",
        "print('Numpy: {}'.format(np.__version__))\n",
        "print('Matplotlib: {}'.format(matplotlib.__version__))\n",
        "print('Pandas: {}'.format(pd.__version__))\n",
        "print('Scikit-learn: {}'.format(sklearn.__version__))"
      ],
      "execution_count": 2,
      "outputs": [
        {
          "output_type": "stream",
          "name": "stdout",
          "text": [
            "Python: 3.7.11 (default, Jul  3 2021, 18:01:19) \n",
            "[GCC 7.5.0]\n",
            "Numpy: 1.19.5\n",
            "Matplotlib: 3.2.2\n",
            "Pandas: 1.1.5\n",
            "Scikit-learn: 0.22.2.post1\n"
          ]
        }
      ]
    },
    {
      "cell_type": "markdown",
      "metadata": {
        "id": "Wb8Xjcz8DFHb"
      },
      "source": [
        "Dataset Load"
      ]
    },
    {
      "cell_type": "code",
      "metadata": {
        "id": "HDykx3lUDJ3d"
      },
      "source": [
        "url = 'https://archive.ics.uci.edu/ml/machine-learning-databases/breast-cancer-wisconsin/breast-cancer-wisconsin.data'\n",
        "names = ['id', 'clump_thickness', 'uniform_cell_size', 'uniform_cell_shape', \n",
        "         'marginal_adhesion', 'single_epithelial_size', 'bare_nuclei',\n",
        "         'bland_chromatin', 'normal_nucleoli', 'mitoses', 'class']\n",
        "\n",
        "df = pd.read_csv(url, names=names).replace('?', np.nan).dropna()"
      ],
      "execution_count": 3,
      "outputs": []
    },
    {
      "cell_type": "code",
      "metadata": {
        "colab": {
          "base_uri": "https://localhost:8080/",
          "height": 224
        },
        "id": "AmlfQyO7DQol",
        "outputId": "4d8466fe-a919-48f6-b833-94e33343170b"
      },
      "source": [
        "df.head()"
      ],
      "execution_count": 4,
      "outputs": [
        {
          "output_type": "execute_result",
          "data": {
            "text/html": [
              "<div>\n",
              "<style scoped>\n",
              "    .dataframe tbody tr th:only-of-type {\n",
              "        vertical-align: middle;\n",
              "    }\n",
              "\n",
              "    .dataframe tbody tr th {\n",
              "        vertical-align: top;\n",
              "    }\n",
              "\n",
              "    .dataframe thead th {\n",
              "        text-align: right;\n",
              "    }\n",
              "</style>\n",
              "<table border=\"1\" class=\"dataframe\">\n",
              "  <thead>\n",
              "    <tr style=\"text-align: right;\">\n",
              "      <th></th>\n",
              "      <th>id</th>\n",
              "      <th>clump_thickness</th>\n",
              "      <th>uniform_cell_size</th>\n",
              "      <th>uniform_cell_shape</th>\n",
              "      <th>marginal_adhesion</th>\n",
              "      <th>single_epithelial_size</th>\n",
              "      <th>bare_nuclei</th>\n",
              "      <th>bland_chromatin</th>\n",
              "      <th>normal_nucleoli</th>\n",
              "      <th>mitoses</th>\n",
              "      <th>class</th>\n",
              "    </tr>\n",
              "  </thead>\n",
              "  <tbody>\n",
              "    <tr>\n",
              "      <th>0</th>\n",
              "      <td>1000025</td>\n",
              "      <td>5</td>\n",
              "      <td>1</td>\n",
              "      <td>1</td>\n",
              "      <td>1</td>\n",
              "      <td>2</td>\n",
              "      <td>1</td>\n",
              "      <td>3</td>\n",
              "      <td>1</td>\n",
              "      <td>1</td>\n",
              "      <td>2</td>\n",
              "    </tr>\n",
              "    <tr>\n",
              "      <th>1</th>\n",
              "      <td>1002945</td>\n",
              "      <td>5</td>\n",
              "      <td>4</td>\n",
              "      <td>4</td>\n",
              "      <td>5</td>\n",
              "      <td>7</td>\n",
              "      <td>10</td>\n",
              "      <td>3</td>\n",
              "      <td>2</td>\n",
              "      <td>1</td>\n",
              "      <td>2</td>\n",
              "    </tr>\n",
              "    <tr>\n",
              "      <th>2</th>\n",
              "      <td>1015425</td>\n",
              "      <td>3</td>\n",
              "      <td>1</td>\n",
              "      <td>1</td>\n",
              "      <td>1</td>\n",
              "      <td>2</td>\n",
              "      <td>2</td>\n",
              "      <td>3</td>\n",
              "      <td>1</td>\n",
              "      <td>1</td>\n",
              "      <td>2</td>\n",
              "    </tr>\n",
              "    <tr>\n",
              "      <th>3</th>\n",
              "      <td>1016277</td>\n",
              "      <td>6</td>\n",
              "      <td>8</td>\n",
              "      <td>8</td>\n",
              "      <td>1</td>\n",
              "      <td>3</td>\n",
              "      <td>4</td>\n",
              "      <td>3</td>\n",
              "      <td>7</td>\n",
              "      <td>1</td>\n",
              "      <td>2</td>\n",
              "    </tr>\n",
              "    <tr>\n",
              "      <th>4</th>\n",
              "      <td>1017023</td>\n",
              "      <td>4</td>\n",
              "      <td>1</td>\n",
              "      <td>1</td>\n",
              "      <td>3</td>\n",
              "      <td>2</td>\n",
              "      <td>1</td>\n",
              "      <td>3</td>\n",
              "      <td>1</td>\n",
              "      <td>1</td>\n",
              "      <td>2</td>\n",
              "    </tr>\n",
              "  </tbody>\n",
              "</table>\n",
              "</div>"
            ],
            "text/plain": [
              "        id  clump_thickness  uniform_cell_size  ...  normal_nucleoli  mitoses  class\n",
              "0  1000025                5                  1  ...                1        1      2\n",
              "1  1002945                5                  4  ...                2        1      2\n",
              "2  1015425                3                  1  ...                1        1      2\n",
              "3  1016277                6                  8  ...                7        1      2\n",
              "4  1017023                4                  1  ...                1        1      2\n",
              "\n",
              "[5 rows x 11 columns]"
            ]
          },
          "metadata": {},
          "execution_count": 4
        }
      ]
    },
    {
      "cell_type": "markdown",
      "metadata": {
        "id": "H0vei4MMDmF-"
      },
      "source": [
        "Data preprocessing"
      ]
    },
    {
      "cell_type": "code",
      "metadata": {
        "id": "tzwY-jtKDuyt"
      },
      "source": [
        "# Drop useless feature for classification\n",
        "df.drop(['id'], axis=1, inplace=True)"
      ],
      "execution_count": 5,
      "outputs": []
    },
    {
      "cell_type": "markdown",
      "metadata": {
        "id": "JwQTa37tD221"
      },
      "source": [
        "**Summarise Data**"
      ]
    },
    {
      "cell_type": "code",
      "metadata": {
        "colab": {
          "base_uri": "https://localhost:8080/"
        },
        "id": "-9fpX9HxD-kd",
        "outputId": "5a5b1c2c-4501-42b0-dfc4-2e26e94c001b"
      },
      "source": [
        "print(df.describe())"
      ],
      "execution_count": 6,
      "outputs": [
        {
          "output_type": "stream",
          "name": "stdout",
          "text": [
            "       clump_thickness  uniform_cell_size  ...     mitoses       class\n",
            "count       683.000000         683.000000  ...  683.000000  683.000000\n",
            "mean          4.442167           3.150805  ...    1.603221    2.699854\n",
            "std           2.820761           3.065145  ...    1.732674    0.954592\n",
            "min           1.000000           1.000000  ...    1.000000    2.000000\n",
            "25%           2.000000           1.000000  ...    1.000000    2.000000\n",
            "50%           4.000000           1.000000  ...    1.000000    2.000000\n",
            "75%           6.000000           5.000000  ...    1.000000    4.000000\n",
            "max          10.000000          10.000000  ...   10.000000    4.000000\n",
            "\n",
            "[8 rows x 9 columns]\n"
          ]
        }
      ]
    },
    {
      "cell_type": "markdown",
      "metadata": {
        "id": "k_IgKYeTEUtu"
      },
      "source": [
        "**Split Train and Test the data **bold text**"
      ]
    },
    {
      "cell_type": "markdown",
      "metadata": {
        "id": "5EYylW2pE-k8"
      },
      "source": [
        ""
      ]
    },
    {
      "cell_type": "code",
      "metadata": {
        "id": "McevwfH_EgI8"
      },
      "source": [
        "X = df.drop(['class'], axis=1).to_numpy()\n",
        "y = df['class'].to_numpy()\n",
        "\n",
        "X_train, X_test, y_train, y_test = train_test_split(X, y, test_size=0.2)"
      ],
      "execution_count": 7,
      "outputs": []
    },
    {
      "cell_type": "markdown",
      "metadata": {
        "id": "Zvsl0KR1FBCt"
      },
      "source": [
        "**Models Train**"
      ]
    },
    {
      "cell_type": "code",
      "metadata": {
        "id": "94qElgwdFUiL"
      },
      "source": [
        "seed = 8\n",
        "scoring = 'accuracy'"
      ],
      "execution_count": 9,
      "outputs": []
    },
    {
      "cell_type": "code",
      "metadata": {
        "colab": {
          "base_uri": "https://localhost:8080/"
        },
        "id": "WAP4LH8lFGb4",
        "outputId": "0a4ba35d-01aa-43f0-b46f-199112db23f6"
      },
      "source": [
        "models = []\n",
        "models.append(('KNN', KNeighborsClassifier(n_neighbors=5)))\n",
        "models.append(('SVM', SVC()))\n",
        "\n",
        "# Evaluate each model in turn\n",
        "results = []\n",
        "names = []\n",
        "\n",
        "for name, model in models:\n",
        "    kfold = KFold(n_splits=10, random_state=seed, shuffle=True)\n",
        "    cv_results = cross_val_score(model, X_train, y_train, cv=kfold, scoring=scoring)\n",
        "    results.append(cv_results)\n",
        "    names.append(name)\n",
        "    msg = \"%s: %f (%f)\" % (name, cv_results.mean(), cv_results.std())\n",
        "    print(msg)"
      ],
      "execution_count": 10,
      "outputs": [
        {
          "output_type": "stream",
          "name": "stdout",
          "text": [
            "KNN: 0.963401 (0.018219)\n",
            "SVM: 0.972525 (0.014787)\n"
          ]
        }
      ]
    },
    {
      "cell_type": "markdown",
      "metadata": {
        "id": "pbyuX_tZFhOj"
      },
      "source": [
        "**Predictions**"
      ]
    },
    {
      "cell_type": "code",
      "metadata": {
        "colab": {
          "base_uri": "https://localhost:8080/"
        },
        "id": "zSZGls3yFlZT",
        "outputId": "4a70febb-a679-41ec-e5e3-8f2be3f4364f"
      },
      "source": [
        "for name, model in models:\n",
        "    model.fit(X_train, y_train)\n",
        "    predictions = model.predict(X_test)\n",
        "    print(name)\n",
        "    print(accuracy_score(y_test, predictions))\n",
        "    print(classification_report(y_test, predictions))"
      ],
      "execution_count": 11,
      "outputs": [
        {
          "output_type": "stream",
          "name": "stdout",
          "text": [
            "KNN\n",
            "0.9781021897810219\n",
            "              precision    recall  f1-score   support\n",
            "\n",
            "           2       0.99      0.98      0.99       101\n",
            "           4       0.95      0.97      0.96        36\n",
            "\n",
            "    accuracy                           0.98       137\n",
            "   macro avg       0.97      0.98      0.97       137\n",
            "weighted avg       0.98      0.98      0.98       137\n",
            "\n",
            "SVM\n",
            "0.9708029197080292\n",
            "              precision    recall  f1-score   support\n",
            "\n",
            "           2       1.00      0.96      0.98       101\n",
            "           4       0.90      1.00      0.95        36\n",
            "\n",
            "    accuracy                           0.97       137\n",
            "   macro avg       0.95      0.98      0.96       137\n",
            "weighted avg       0.97      0.97      0.97       137\n",
            "\n"
          ]
        }
      ]
    },
    {
      "cell_type": "markdown",
      "metadata": {
        "id": "zkypSNu3F1Qb"
      },
      "source": [
        "**Another method for get accuracy**"
      ]
    },
    {
      "cell_type": "code",
      "metadata": {
        "colab": {
          "base_uri": "https://localhost:8080/"
        },
        "id": "puOXz8BsF-1z",
        "outputId": "edc7da09-1034-42f6-e280-848a313b869d"
      },
      "source": [
        "clf = SVC()\n",
        "clf.fit(X_train, y_train)\n",
        "accuracy = clf.score(X_test, y_test)\n",
        "print(accuracy)\n"
      ],
      "execution_count": 12,
      "outputs": [
        {
          "output_type": "stream",
          "name": "stdout",
          "text": [
            "0.9708029197080292\n"
          ]
        }
      ]
    },
    {
      "cell_type": "markdown",
      "metadata": {
        "id": "Lzr6zZNLGHzO"
      },
      "source": [
        "**Sample testing**"
      ]
    },
    {
      "cell_type": "code",
      "metadata": {
        "colab": {
          "base_uri": "https://localhost:8080/"
        },
        "id": "fd0TYKDpGMxb",
        "outputId": "5ec59547-b456-43d3-d1e3-3a6d132b4649"
      },
      "source": [
        "example = np.array([[4, 2, 1, 1, 1, 2, 3, 2, 10]])\n",
        "example = example.reshape(len(example), -1)\n",
        "prediction = clf.predict(example)\n",
        "print(prediction)"
      ],
      "execution_count": 13,
      "outputs": [
        {
          "output_type": "stream",
          "name": "stdout",
          "text": [
            "[4]\n"
          ]
        }
      ]
    },
    {
      "cell_type": "code",
      "metadata": {
        "colab": {
          "base_uri": "https://localhost:8080/"
        },
        "id": "bYBju9qXGT2f",
        "outputId": "12fd572f-e0b5-4523-b72b-18a99dccc749"
      },
      "source": [
        "example = np.array([[10, 2, 1, 1, 1, 2, 3, 2, 10]])\n",
        "example = example.reshape(len(example), -1)\n",
        "prediction = clf.predict(example)\n",
        "print(prediction)"
      ],
      "execution_count": 14,
      "outputs": [
        {
          "output_type": "stream",
          "name": "stdout",
          "text": [
            "[4]\n"
          ]
        }
      ]
    }
  ]
}